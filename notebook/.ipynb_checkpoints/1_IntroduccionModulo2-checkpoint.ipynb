{
 "cells": [
  {
   "cell_type": "markdown",
   "metadata": {},
   "source": [
    "<img src=\"https://raw.githubusercontent.com/Above02/Statistical_Analysis/main/images/logos/ColorLogo.png\">\n"
   ]
  },
  {
   "cell_type": "markdown",
   "metadata": {},
   "source": [
    "[![Open In Colab](https://colab.research.google.com/assets/colab-badge.svg)](https://colab.research.google.com/github/Above02/Statistical_Analysis/blob/master/notebook/1_IntroduccionModulo2.ipynb)"
   ]
  },
  {
   "cell_type": "markdown",
   "metadata": {},
   "source": [
    "<h1><center>Módulo 2 - Análisis Estadístico de Datos</center></h1>\n",
    "\n",
    "La **estadística**... como disciplina académica y profesional, es la recolección, análisis e interpretación de datos. \n",
    "\n",
    "* Los profesionales que trabajamos con **estadísticas** también debemos tener el *poder de comunicar hallazgos*...\n",
    "\n",
    "-------\n",
    "\n",
    "Como tal, la estadística es una herramienta fundamental para los **científicos de datos**, de quienes se espera que recopilen y analicen grandes cantidades de datos estructurados y no estructurados e informen sobre sus hallazgos."
   ]
  },
  {
   "cell_type": "markdown",
   "metadata": {},
   "source": [
    "<h3><center>Estadística en Ciencia de Datos</center></h3>"
   ]
  },
  {
   "cell_type": "markdown",
   "metadata": {},
   "source": [
    "La información la percibimos como \"**datos crudos**\" (*raw data*) y debemos aprender a extraerlos, manipularlos y, sobre todo, utilizar una combinación de fórmulas estadísticas y algoritmos informáticos para notar <font color=blue>**patrones**</font> y <font color=red>**tendencias**</font> dentro de los datos.\n",
    "\n",
    "---\n",
    "\n",
    "Para convertirnos en científicoc de datos, debemos tener una sólida comprensión de las matemáticas, el razonamiento estadístico y de las ciencias computacionales. \n",
    "\n",
    "Por lo tanto, debemos comprender los conceptos estadísticos, cómo utilizar fórmulas estadísticas clave y cómo interpretar y presentar los resultados. Esto nos llevará a la siguiente etapa: Pre-procesamiento (PP) de los datos y análisis de datos exploratorio (EDA).\n",
    "\n",
    "![img](https://i.pinimg.com/originals/87/9f/8a/879f8a6951f8d68699345cc6f81cf3b6.png)"
   ]
  },
  {
   "cell_type": "markdown",
   "metadata": {},
   "source": [
    "![img](https://miro.medium.com/max/1094/1*rHnEr1VuZ3pFA5xctXUagA.png)"
   ]
  },
  {
   "cell_type": "markdown",
   "metadata": {},
   "source": [
    "---\n",
    "---\n",
    "\n",
    "\n",
    "El contenido se divide de la siguiente manera:\n",
    "\n",
    "[Notebook 1](https://github.com/jhermosillo/DIPLOMADO_CDP/blob/main/02_Analisis_Estadistico/notebook/2_DatosEstadisticos_Probabilidad.ipynb):\n",
    "\n",
    "    2.1 Introducción al Análisis Estadístico de Datos.\n",
    "    2.2 Tipos de Datos Estadísticos\n",
    "    2.3 Medidas de tendencia central\n",
    "    2.4 Medidas de dispersión\n",
    "    2.5 Distribuciones de probabilidad\n",
    "\tBreve ejercicio\n",
    "   \n",
    "[Notebook 2](https://github.com/jhermosillo/DIPLOMADO_CDP/blob/main/02_Analisis_Estadistico/notebook/3_Pruebas_Hipotesis.ipynb):\n",
    "\n",
    "    2.6 Pruebas de hipótesis\n",
    "    2.7 Definición de error Tipo I  y  error Tipo II\n",
    "    2.8 Definición de p-value y alpha. \n",
    "    2.9 Pruebas de hipótesis: paramétricas y no paramétricas\n",
    "  * [Ejercicio 1](https://github.com/jhermosillo/DIPLOMADO_CDP/blob/main/02_Analisis_Estadistico/notebook/practices/Practica1_EstadisticaWoAns.ipynb)\n",
    "    \n",
    "  * [Ejercicio 2](https://github.com/jhermosillo/DIPLOMADO_CDP/blob/main/02_Analisis_Estadistico/notebook/practices/Practica2_UnPocodeEDAWoAns.ipynb)\n",
    "        \n",
    "[Notebook 3](https://github.com/jhermosillo/DIPLOMADO_CDP/blob/main/02_Analisis_Estadistico/notebook/4_MonteCarlo.ipynb):\n",
    "\n",
    "    2.10 Uso de Simulación Monte Carlo para modelación.\n",
    "    Ejercicios\n",
    "    \n",
    "[Notebook 4](https://github.com/jhermosillo/DIPLOMADO_CDP/blob/main/02_Analisis_Estadistico/notebook/5_WebScrapping.ipynb):\n",
    "\n",
    "    2.11 Un poco de web-scrapping\n",
    "\tEjemplos\n"
   ]
  }
 ],
 "metadata": {
  "kernelspec": {
   "display_name": "Python 3",
   "language": "python",
   "name": "python3"
  },
  "language_info": {
   "codemirror_mode": {
    "name": "ipython",
    "version": 3
   },
   "file_extension": ".py",
   "mimetype": "text/x-python",
   "name": "python",
   "nbconvert_exporter": "python",
   "pygments_lexer": "ipython3",
   "version": "3.7.6"
  }
 },
 "nbformat": 4,
 "nbformat_minor": 4
}
